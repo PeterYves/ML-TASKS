{
  "nbformat": 4,
  "nbformat_minor": 0,
  "metadata": {
    "colab": {
      "name": "assignment 2 Folding papers.ipynb",
      "provenance": []
    },
    "kernelspec": {
      "name": "python3",
      "display_name": "Python 3"
    },
    "language_info": {
      "name": "python"
    }
  },
  "cells": [
    {
      "cell_type": "markdown",
      "metadata": {
        "id": "Ge_Ds0pnjEK2"
      },
      "source": [
        "# Python Introductory Lesson assignment 2"
      ]
    },
    {
      "cell_type": "markdown",
      "metadata": {
        "id": "wJ_DK3d0jDlm"
      },
      "source": [
        "### [Problem 1] How many times to fold to surpass the height of Mt.Fuji?"
      ]
    },
    {
      "cell_type": "code",
      "metadata": {
        "colab": {
          "base_uri": "https://localhost:8080/"
        },
        "id": "18fxxxwyZUNy",
        "outputId": "77645015-6e59-4786-9ae7-4b36d92b45e2"
      },
      "source": [
        "t0 = 0.00008\n",
        "height = 3776\n",
        "i = 0\n",
        "t1 = t0 * 2**i\n",
        "while t1 <= height:\n",
        "  i += 1\n",
        "  t1 = t0 * 2**i\n",
        "print(\"The minimum number of folds over Mt. Fuji is {} times.\" .format(i))"
      ],
      "execution_count": 7,
      "outputs": [
        {
          "output_type": "stream",
          "text": [
            "The minimum number of folds over Mt. Fuji is 26 times.\n"
          ],
          "name": "stdout"
        }
      ]
    },
    {
      "cell_type": "markdown",
      "metadata": {
        "id": "TsMKXJPukEHb"
      },
      "source": [
        "### [Problem 2] Function corresponding to arbitrary thickness"
      ]
    },
    {
      "cell_type": "code",
      "metadata": {
        "colab": {
          "base_uri": "https://localhost:8080/",
          "height": 35
        },
        "id": "me3fQWKUaOec",
        "outputId": "df807fc4-d61f-4e35-d2b3-a8056786a6d9"
      },
      "source": [
        "\n",
        "import math\n",
        "\n",
        "def arbitrary_thickness(distance):\n",
        "    thickness = 0.00008\n",
        "    \n",
        "    num_of_bends = math.log2(distance/thickness)\n",
        "    \n",
        "    return f'The number of times a paper {distance}m thick bends is : {round(num_of_bends)} times'\n",
        "    \n",
        "arbitrary_thickness(20000)"
      ],
      "execution_count": 10,
      "outputs": [
        {
          "output_type": "execute_result",
          "data": {
            "application/vnd.google.colaboratory.intrinsic+json": {
              "type": "string"
            },
            "text/plain": [
              "'The number of times a paper 20000m thick bends is : 28 times'"
            ]
          },
          "metadata": {
            "tags": []
          },
          "execution_count": 10
        }
      ]
    },
    {
      "cell_type": "markdown",
      "metadata": {
        "id": "l2_jrIgEi6MP"
      },
      "source": [
        "- Number of times to fold a paper to reach the nearest neighboring star, Proxima centauri"
      ]
    },
    {
      "cell_type": "code",
      "metadata": {
        "colab": {
          "base_uri": "https://localhost:8080/",
          "height": 35
        },
        "id": "wH6cFZQHbSKe",
        "outputId": "8cdc4e26-4689-4e6f-bb2d-3d3710aaabf9"
      },
      "source": [
        "arbitrary_thickness(40208000000000)"
      ],
      "execution_count": 11,
      "outputs": [
        {
          "output_type": "execute_result",
          "data": {
            "application/vnd.google.colaboratory.intrinsic+json": {
              "type": "string"
            },
            "text/plain": [
              "'The number of times a paper 40208000000000m thick bends is : 59 times'"
            ]
          },
          "metadata": {
            "tags": []
          },
          "execution_count": 11
        }
      ]
    },
    {
      "cell_type": "markdown",
      "metadata": {
        "id": "Prq3ADqKlQPk"
      },
      "source": [
        "### [Problem 3] Required paper length"
      ]
    },
    {
      "cell_type": "code",
      "metadata": {
        "colab": {
          "base_uri": "https://localhost:8080/",
          "height": 35
        },
        "id": "0gsLrrm4inze",
        "outputId": "fdd5c09b-be17-4e85-9776-251b7fc1eb92"
      },
      "source": [
        "def paper_length(distance):\n",
        "    thickness = 0.00008\n",
        "    \n",
        "    num_of_bends = math.log2(distance/thickness)\n",
        "    \n",
        "    length = (thickness*math.pi/6)*(2**num_of_bends + 4)*(2**num_of_bends - 1)\n",
        "    \n",
        "    return f'The length of the paper necessary to reach a thickness of {distance}m is: {round(length)} meters'\n",
        "paper_length(2000)"
      ],
      "execution_count": 21,
      "outputs": [
        {
          "output_type": "execute_result",
          "data": {
            "application/vnd.google.colaboratory.intrinsic+json": {
              "type": "string"
            },
            "text/plain": [
              "'The length of the paper necessary to reach a thickness of 2000m is: 26179941922 meters'"
            ]
          },
          "metadata": {
            "tags": []
          },
          "execution_count": 21
        }
      ]
    },
    {
      "cell_type": "markdown",
      "metadata": {
        "id": "NFfSkYvCma98"
      },
      "source": [
        "- length of paper needed to reach the Moon"
      ]
    },
    {
      "cell_type": "code",
      "metadata": {
        "colab": {
          "base_uri": "https://localhost:8080/",
          "height": 35
        },
        "id": "z_b70R47mF6t",
        "outputId": "2781ebd4-abcf-4d44-cbe9-9ea7ccdf649f"
      },
      "source": [
        "paper_length(384400000)"
      ],
      "execution_count": 22,
      "outputs": [
        {
          "output_type": "execute_result",
          "data": {
            "application/vnd.google.colaboratory.intrinsic+json": {
              "type": "string"
            },
            "text/plain": [
              "'The length of the paper necessary to reach a thickness of 384400000m is: 967108929679232729088 meters'"
            ]
          },
          "metadata": {
            "tags": []
          },
          "execution_count": 22
        }
      ]
    },
    {
      "cell_type": "markdown",
      "metadata": {
        "id": "KWgdXN2hnOVE"
      },
      "source": [
        "- length of paper needed to reach the Mt. Fuji"
      ]
    },
    {
      "cell_type": "code",
      "metadata": {
        "colab": {
          "base_uri": "https://localhost:8080/",
          "height": 35
        },
        "id": "tDaOsGJLml6m",
        "outputId": "9065b799-bedd-4acc-8744-2be8a877dc74"
      },
      "source": [
        "paper_length(3776)"
      ],
      "execution_count": 23,
      "outputs": [
        {
          "output_type": "execute_result",
          "data": {
            "application/vnd.google.colaboratory.intrinsic+json": {
              "type": "string"
            },
            "text/plain": [
              "'The length of the paper necessary to reach a thickness of 3776m is: 93319549630 meters'"
            ]
          },
          "metadata": {
            "tags": []
          },
          "execution_count": 23
        }
      ]
    },
    {
      "cell_type": "markdown",
      "metadata": {
        "id": "-x0DL7ybnYIC"
      },
      "source": [
        "- length of paper needed to reach the the stars closest to the Sun"
      ]
    },
    {
      "cell_type": "code",
      "metadata": {
        "colab": {
          "base_uri": "https://localhost:8080/",
          "height": 35
        },
        "id": "rChfRFjWnEco",
        "outputId": "f0b0641f-ad8b-42c8-fc59-2cde9f75f6ef"
      },
      "source": [
        "paper_length(41320000000000000000)"
      ],
      "execution_count": 24,
      "outputs": [
        {
          "output_type": "execute_result",
          "data": {
            "application/vnd.google.colaboratory.intrinsic+json": {
              "type": "string"
            },
            "text/plain": [
              "'The length of the paper necessary to reach a thickness of 41320000000000000000m is: 11174529877088318617763684719386290288590848 meters'"
            ]
          },
          "metadata": {
            "tags": []
          },
          "execution_count": 24
        }
      ]
    },
    {
      "cell_type": "code",
      "metadata": {
        "id": "LaONTdx-nKvo"
      },
      "source": [
        ""
      ],
      "execution_count": null,
      "outputs": []
    }
  ]
}