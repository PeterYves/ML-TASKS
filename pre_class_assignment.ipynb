{
  "nbformat": 4,
  "nbformat_minor": 0,
  "metadata": {
    "colab": {
      "name": "pre_class_assignment.ipynb",
      "provenance": [],
      "collapsed_sections": []
    },
    "kernelspec": {
      "name": "python3",
      "display_name": "Python 3"
    },
    "language_info": {
      "name": "python"
    }
  },
  "cells": [
    {
      "cell_type": "markdown",
      "metadata": {
        "id": "34boBca9dvi7"
      },
      "source": [
        "\n",
        "# Python Pre-class assignment 1\n"
      ]
    },
    {
      "cell_type": "markdown",
      "metadata": {
        "id": "PjPdsjhSW3uw"
      },
      "source": [
        "### problem 1: Implementation using exponentiation arithmetic operators"
      ]
    },
    {
      "cell_type": "code",
      "metadata": {
        "colab": {
          "base_uri": "https://localhost:8080/"
        },
        "id": "saFnyQ6aTr6y",
        "outputId": "3307f74c-a4bd-480f-92a6-f62697fcd1d7"
      },
      "source": [
        "\n",
        "THICKNESS = 0.00008\n",
        "folded_paper=43\n",
        "folded_thickness = THICKNESS*(2**folded_paper)\n",
        "print(\"Thickness: {}meters\".format(folded_thickness))"
      ],
      "execution_count": 4,
      "outputs": [
        {
          "output_type": "stream",
          "text": [
            "Thickness: 703687441.77664meters\n"
          ],
          "name": "stdout"
        }
      ]
    },
    {
      "cell_type": "markdown",
      "metadata": {
        "id": "xRz4SpX0T-pQ"
      },
      "source": [
        "### Problem 2: Unit Conversion"
      ]
    },
    {
      "cell_type": "code",
      "metadata": {
        "colab": {
          "base_uri": "https://localhost:8080/"
        },
        "id": "9e8TFcgrUCA_",
        "outputId": "ae9d218a-4f3a-4267-ea58-a06e0f73fac8"
      },
      "source": [
        "\n",
        "THICKNESS =0.00008\n",
        "folded_paper=43\n",
        "folded_thickness = THICKNESS*(2**folded_paper)\n",
        "print(\"Thickness: {:.2f}0,000 km\".format(folded_thickness/1000))"
      ],
      "execution_count": 3,
      "outputs": [
        {
          "output_type": "stream",
          "text": [
            "Thickness: 703687.440,000 km\n"
          ],
          "name": "stdout"
        }
      ]
    },
    {
      "cell_type": "markdown",
      "metadata": {
        "id": "lyh6e480c6bG"
      },
      "source": [
        "### problem 3: Create using a for statement"
      ]
    },
    {
      "cell_type": "code",
      "metadata": {
        "colab": {
          "base_uri": "https://localhost:8080/"
        },
        "id": "noJsBU5BexWp",
        "outputId": "6fe3b939-4269-44e2-dcc1-a2b588c183d3"
      },
      "source": [
        "THICKNESS = 0.00008\n",
        "folded_paper = 43\n",
        "for i in range(folded_paper):\n",
        "   THICKNESS = THICKNESS*2\n",
        "print(\"Thickness: {}meters\".format(THICKNESS))"
      ],
      "execution_count": 5,
      "outputs": [
        {
          "output_type": "stream",
          "text": [
            "Thickness: 703687441.77664meters\n"
          ],
          "name": "stdout"
        }
      ]
    },
    {
      "cell_type": "markdown",
      "metadata": {
        "id": "6Uh0grHogVf2"
      },
      "source": [
        "### problem 4: Comparison of calculation time"
      ]
    },
    {
      "cell_type": "code",
      "metadata": {
        "colab": {
          "base_uri": "https://localhost:8080/"
        },
        "id": "Cq9V0q5ugSX3",
        "outputId": "2f6dc5ec-bb2b-4228-e579-549317683ef5"
      },
      "source": [
        "import time\n",
        "start = time.time()\n",
        "THICKNESS = 0.00008\n",
        "times = 43\n",
        "folded_thickness = THICKNESS\n",
        "for i in range(times):\n",
        "    folded_thickness = folded_thickness*2\n",
        "print(\"Thickness： {}meters\".format(folded_thickness))\n",
        "elapsed_time = time.time() - start\n",
        "print(\"time : {}s\".format(elapsed_time))"
      ],
      "execution_count": 9,
      "outputs": [
        {
          "output_type": "stream",
          "text": [
            "Thickness： 703687441.77664meters\n",
            "time : 0.0005552768707275391s\n"
          ],
          "name": "stdout"
        }
      ]
    },
    {
      "cell_type": "markdown",
      "metadata": {
        "id": "zwB6chb2hlIB"
      },
      "source": [
        "### problem 5: Saving to a list"
      ]
    },
    {
      "cell_type": "code",
      "metadata": {
        "colab": {
          "base_uri": "https://localhost:8080/"
        },
        "id": "2rfwWqMnhwW7",
        "outputId": "a24a6149-78a7-4cdc-aac9-fae0b3c37c1a"
      },
      "source": [
        "THICKNESS = 0.00008\n",
        "n_folded = 43\n",
        "folded_thickness_list = [THICKNESS]\n",
        "for i in range(folded_paper):\n",
        "   folded_thickness_list.append(folded_thickness_list[-1]*2)\n",
        "print(\"Thickness:{}meters\".format(folded_thickness_list[-1]))\n",
        "print(\"------\")\n",
        "print(\"list\")\n",
        "print(folded_thickness_list)"
      ],
      "execution_count": 10,
      "outputs": [
        {
          "output_type": "stream",
          "text": [
            "Thickness:703687441.77664meters\n",
            "------\n",
            "list\n",
            "[8e-05, 0.00016, 0.00032, 0.00064, 0.00128, 0.00256, 0.00512, 0.01024, 0.02048, 0.04096, 0.08192, 0.16384, 0.32768, 0.65536, 1.31072, 2.62144, 5.24288, 10.48576, 20.97152, 41.94304, 83.88608, 167.77216, 335.54432, 671.08864, 1342.17728, 2684.35456, 5368.70912, 10737.41824, 21474.83648, 42949.67296, 85899.34592, 171798.69184, 343597.38368, 687194.76736, 1374389.53472, 2748779.06944, 5497558.13888, 10995116.27776, 21990232.55552, 43980465.11104, 87960930.22208, 175921860.44416, 351843720.88832, 703687441.77664]\n"
          ],
          "name": "stdout"
        }
      ]
    },
    {
      "cell_type": "markdown",
      "metadata": {
        "id": "HKk1PUcFiw6L"
      },
      "source": [
        "### problem 6: Displaying a line graph"
      ]
    },
    {
      "cell_type": "code",
      "metadata": {
        "colab": {
          "base_uri": "https://localhost:8080/",
          "height": 295
        },
        "id": "wZGX5WRki_bq",
        "outputId": "755ecfcb-ce05-404e-8a70-a9cede193133"
      },
      "source": [
        "import matplotlib.pyplot as plt\n",
        "%matplotlib inline\n",
        "plt.title(\"thickness of folded paper\")\n",
        "plt.xlabel(\"number of folds\")\n",
        "plt.ylabel(\"thickness[m]\")\n",
        "plt.plot(folded_thickness_list,linewidth=5,color='green')\n",
        "plt.show()"
      ],
      "execution_count": 11,
      "outputs": [
        {
          "output_type": "display_data",
          "data": {
            "image/png": "[encoded data removed]",
            "text/plain": [
              "<Figure size 432x288 with 1 Axes>"
            ]
          },
          "metadata": {
            "tags": [],
            "needs_background": "light"
          }
        }
      ]
    },
    {
      "cell_type": "markdown",
      "metadata": {
        "id": "NRgikGpEjfiJ"
      },
      "source": [
        "### problem 7 : Customizing graphs\n",
        "\n",
        "- Make the line color Orange."
      ]
    },
    {
      "cell_type": "code",
      "metadata": {
        "colab": {
          "base_uri": "https://localhost:8080/",
          "height": 295
        },
        "id": "VvPWz9VZjVPL",
        "outputId": "390f89ed-3e7a-453c-a54b-9bb522e5292b"
      },
      "source": [
        "plt.title(\"thickness of folded paper\")\n",
        "plt.xlabel(\"number of folds\")\n",
        "plt.ylabel(\"thickness[m]\")\n",
        "plt.plot(folded_thickness_list, color='orange')\n",
        "plt.show()"
      ],
      "execution_count": 13,
      "outputs": [
        {
          "output_type": "display_data",
          "data": {
            "image/png": "[encoded data removed]",
            "text/plain": [
              "<Figure size 432x288 with 1 Axes>"
            ]
          },
          "metadata": {
            "tags": [],
            "needs_background": "light"
          }
        }
      ]
    },
    {
      "cell_type": "markdown",
      "metadata": {
        "id": "LwX5RreamLxu"
      },
      "source": [
        "- display red dotted line"
      ]
    },
    {
      "cell_type": "code",
      "metadata": {
        "colab": {
          "base_uri": "https://localhost:8080/",
          "height": 295
        },
        "id": "9BjWqsi-kxhh",
        "outputId": "07d9f29d-e545-442c-fb8d-45b625875ac1"
      },
      "source": [
        "plt.title(\"thickness of folded paper\")\n",
        "plt.xlabel(\"number of folds\")\n",
        "plt.ylabel(\"thickness[m]\")\n",
        "plt.plot(folded_thickness_list, color='red',markersize=5,linestyle='dotted',linewidth=5,marker='2')\n",
        "plt.show()"
      ],
      "execution_count": 14,
      "outputs": [
        {
          "output_type": "display_data",
          "data": {
            "image/png": "[encoded data removed]",
            "text/plain": [
              "<Figure size 432x288 with 1 Axes>"
            ]
          },
          "metadata": {
            "tags": [],
            "needs_background": "light"
          }
        }
      ]
    },
    {
      "cell_type": "markdown",
      "metadata": {
        "id": "iVnyIOeomgIS"
      },
      "source": [
        "- display increased value of axis."
      ]
    },
    {
      "cell_type": "code",
      "metadata": {
        "colab": {
          "base_uri": "https://localhost:8080/",
          "height": 295
        },
        "id": "UAJvmvbCmZgp",
        "outputId": "b7c2ac9c-e6ab-40e4-f471-33f636d510d7"
      },
      "source": [
        "plt.title(\"thickness of folded paper\")\n",
        "plt.xlabel(\"number of folds\")\n",
        "plt.ylabel(\"thickness[m]\")\n",
        "plt.tick_params(labelsize=10)\n",
        "plt.plot(folded_thickness_list,'r+',color='blue')\n",
        "plt.show()"
      ],
      "execution_count": 15,
      "outputs": [
        {
          "output_type": "display_data",
          "data": {
            "image/png": "[encoded data removed]",
            "text/plain": [
              "<Figure size 432x288 with 1 Axes>"
            ]
          },
          "metadata": {
            "tags": [],
            "needs_background": "light"
          }
        }
      ]
    },
    {
      "cell_type": "code",
      "metadata": {
        "id": "YjKabzfSm6Rj"
      },
      "source": [
        ""
      ],
      "execution_count": null,
      "outputs": []
    }
  ]
}