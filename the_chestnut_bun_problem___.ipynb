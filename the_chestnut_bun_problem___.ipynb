{
  "nbformat": 4,
  "nbformat_minor": 0,
  "metadata": {
    "colab": {
      "name": "the chestnut bun problem​ ​.ipynb",
      "provenance": []
    },
    "kernelspec": {
      "name": "python3",
      "display_name": "Python 3"
    },
    "language_info": {
      "name": "python"
    }
  },
  "cells": [
    {
      "cell_type": "markdown",
      "metadata": {
        "id": "_WeOU0OhHsXD"
      },
      "source": [
        "# Python Introductory Lesson assignment 3"
      ]
    },
    {
      "cell_type": "markdown",
      "metadata": {
        "id": "_obAl-74HrsC"
      },
      "source": [
        "### [Problem] The day when chestnut buns cover the solar system"
      ]
    },
    {
      "cell_type": "markdown",
      "metadata": {
        "id": "ObhS5oBfIfmP"
      },
      "source": [
        "- Assuming the size of the sola system is 100,000 AU"
      ]
    },
    {
      "cell_type": "code",
      "metadata": {
        "colab": {
          "base_uri": "https://localhost:8080/"
        },
        "id": "qOXoeqSZBewm",
        "outputId": "b74a5d18-6328-43cd-aa8f-ef0985329725"
      },
      "source": [
        "\n",
        "def solar_system(object_size):\n",
        "\n",
        "    #size of the sola system in meter cube\n",
        "    solar_size=100000\n",
        "\n",
        "    time=0\n",
        "    while True:\n",
        "        if object_size>=solar_size:\n",
        "            break\n",
        "        else:\n",
        "            object_size*=2\n",
        "            time+=5\n",
        "    return print(\"Time it takes to cover the solar system: {} Minutes\".format(time))\n",
        "\n",
        "solar_system(450)"
      ],
      "execution_count": 1,
      "outputs": [
        {
          "output_type": "stream",
          "text": [
            "Time it takes to cover the solar system: 40 Minutes\n"
          ],
          "name": "stdout"
        }
      ]
    },
    {
      "cell_type": "code",
      "metadata": {
        "colab": {
          "base_uri": "https://localhost:8080/",
          "height": 312
        },
        "id": "uv2n7ynHGlf-",
        "outputId": "45e79ce2-65e2-43b4-f400-f08783ca0bb1"
      },
      "source": [
        "def Tokyo_Dome(object_size):\n",
        "    #Size of the Tokyo Dome in Cubic meters\n",
        "    size_tokyo_dome=1240000 \n",
        "        time=0\n",
        "    minutes=[]\n",
        "    size=[]\n",
        "    while True:\n",
        "        if object_size>=size_tokyo_dome:\n",
        "            break\n",
        "        else:\n",
        "            object_size*=2\n",
        "            time+=5\n",
        "            minutes.append(time)\n",
        "            size.append(object_size)\n",
        "    \n",
        "    import matplotlib.pyplot as plt\n",
        "    \n",
        "    plt.plot(minutes, size, 'r-o', linewidth=2, markersize=12, markeredgewidth=3, markeredgecolor='blue')\n",
        "    plt.xlabel('TIME IN MINUTES'); plt.ylabel('SIZE OF THE OBJECT');\n",
        "    plt.title(\"Relating to Tokyo Dome Situation\")\n",
        "    \n",
        "    return print(\"it takes {} Minutes\".format(time))\n",
        "Tokyo_Dome(10000)"
      ],
      "execution_count": 6,
      "outputs": [
        {
          "output_type": "stream",
          "text": [
            "it takes 35 Minutes\n"
          ],
          "name": "stdout"
        },
        {
          "output_type": "display_data",
          "data": {
            "image/png": "[encoded data removed]",
            "text/plain": [
              "<Figure size 432x288 with 1 Axes>"
            ]
          },
          "metadata": {
            "tags": [],
            "needs_background": "light"
          }
        }
      ]
    }
  ]
}