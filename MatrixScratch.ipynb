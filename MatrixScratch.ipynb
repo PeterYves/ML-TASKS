{
  "nbformat": 4,
  "nbformat_minor": 0,
  "metadata": {
    "kernelspec": {
      "display_name": "Python 3",
      "language": "python",
      "name": "python3"
    },
    "language_info": {
      "codemirror_mode": {
        "name": "ipython",
        "version": 3
      },
      "file_extension": ".py",
      "mimetype": "text/x-python",
      "name": "python",
      "nbconvert_exporter": "python",
      "pygments_lexer": "ipython3",
      "version": "3.8.5"
    },
    "colab": {
      "name": "MatrixScratch.ipynb",
      "provenance": []
    }
  },
  "cells": [
    {
      "cell_type": "markdown",
      "metadata": {
        "id": "uqLDJOzkYteU"
      },
      "source": [
        "# Mathematics for Machine Learning Pre-Class assignment 3 "
      ]
    },
    {
      "cell_type": "markdown",
      "metadata": {
        "id": "4PDI9Z3vWUJY"
      },
      "source": [
        "## [Problem 1] Matrix product is calculated manually"
      ]
    },
    {
      "cell_type": "markdown",
      "metadata": {
        "id": "YjTe5kF9WUJp"
      },
      "source": [
        "# **Problem :**\n",
        "\n",
        "A=\\begin{bmatrix} -1 & 2 & 3 \\\\ 4 & -5 & 6 \\\\ 7 & 8 & -9 \\end{bmatrix},\n",
        "B=\\begin{bmatrix} 0 & 2 & 1 \\\\ 0 & 2 & -8 \\\\ 2 & 9 & -1 \\end{bmatrix}\n",
        "\n",
        "\n",
        "## **calculation process**\n",
        "\n",
        "**inter-multiplication Of every matrix element :**\n",
        "\n",
        "\\begin{bmatrix}\n",
        "(-1*0)+(2*0)+(3*2)&(-1*2)+(2*2)+(3*9)&(-1*1)+(2*-8)+(3*-1)\\\\\n",
        "(4*0)+(-5*0)+(6*2)&(4*2)+(-5*2)+(6*9)&(4*1)+(-5*-8)+(6*-1)\\\\\n",
        "(7*0)+(8*0)+(-9*2)&(7*2)+(8*2)+(-9*9)&(7*1)+(8*-8)+(-9*-1)\\\\\n",
        "\\end{bmatrix},\n",
        "\n",
        "\n",
        "\n",
        "**then it becomes:**\n",
        "\n",
        "\\begin{bmatrix}\n",
        "(O+0+6)&(-2+4+27)&(-1-16-3)\\\\\n",
        "(O+0+12)&(8-10+54)&(4+40-6)\\\\\n",
        "(O+0-18)&(14+16-81)&(7-64+9)\\\\\n",
        "\\end{bmatrix},\n",
        "\n",
        "\n",
        "**Result into**\n",
        "\n",
        "\\begin{pmatrix} \n",
        "6&29&-20\\\\\n",
        "12&52&38\\\\\n",
        "-18&-51&-48\n",
        "\\end{pmatrix}\n"
      ]
    },
    {
      "cell_type": "markdown",
      "metadata": {
        "id": "bBgU2rUCWUJs"
      },
      "source": [
        "## [Problem 2] Calculation by NumPy function"
      ]
    },
    {
      "cell_type": "code",
      "metadata": {
        "colab": {
          "base_uri": "https://localhost:8080/"
        },
        "id": "sgtAFQAWWUJt",
        "outputId": "08eaaebd-f8ad-452e-cff6-cbeb539e609a"
      },
      "source": [
        "import   numpy   as  np\n",
        "ndarray_A = np.array([[-1, 2, 3], [4, -5, 6], [7, 8, -9]])\n",
        "ndarray_B = np.array([[0, 2, 1], [0, 2, -8], [2, 9, -1]])\n",
        "ndarray_A_B = np.matmul(ndarray_A,ndarray_B)\n",
        "print(ndarray_A_B)"
      ],
      "execution_count": 3,
      "outputs": [
        {
          "output_type": "stream",
          "text": [
            "[[  6  29 -20]\n",
            " [ 12  52  38]\n",
            " [-18 -51 -48]]\n"
          ],
          "name": "stdout"
        }
      ]
    },
    {
      "cell_type": "markdown",
      "metadata": {
        "id": "LzmAaeG-WUJw"
      },
      "source": [
        "## [Problem 3] Implementation of calculation of a certain element"
      ]
    },
    {
      "cell_type": "code",
      "metadata": {
        "colab": {
          "base_uri": "https://localhost:8080/"
        },
        "id": "ZSmhvMP1WUJx",
        "outputId": "41f89965-9e87-4063-b288-2d5e886117f2"
      },
      "source": [
        "Sum = (ndarray_A[1][0]*ndarray_B[0][1])+(ndarray_A[1][1]*ndarray_B[1][1])+(ndarray_A[1][2]*ndarray_B[2][1])\n",
        "Sum"
      ],
      "execution_count": 4,
      "outputs": [
        {
          "output_type": "execute_result",
          "data": {
            "text/plain": [
              "52"
            ]
          },
          "metadata": {
            "tags": []
          },
          "execution_count": 4
        }
      ]
    },
    {
      "cell_type": "markdown",
      "metadata": {
        "id": "w_epfDbDWUJy"
      },
      "source": [
        "## [Problem 4] Creating a function that performs matrix multiplication"
      ]
    },
    {
      "cell_type": "code",
      "metadata": {
        "colab": {
          "base_uri": "https://localhost:8080/"
        },
        "id": "UN8VHnocWUJz",
        "outputId": "3ff9d190-ee07-4d83-ca09-b27e84d3be7b"
      },
      "source": [
        "def product_of_matrix(a, b):\n",
        "    ndarray_A_B = np.empty([3,3])\n",
        "    for row in range(a.shape[0]):\n",
        "        for column in range(b.shape[1]):\n",
        "            ndarray_A_B[row][column] = sum(a[row, :]*b[:, column])\n",
        "    return ndarray_A_B\n",
        "print(product_of_matrix(ndarray_A, ndarray_B))\n"
      ],
      "execution_count": 5,
      "outputs": [
        {
          "output_type": "stream",
          "text": [
            "[[  6.  29. -20.]\n",
            " [ 12.  52.  38.]\n",
            " [-18. -51. -48.]]\n"
          ],
          "name": "stdout"
        }
      ]
    },
    {
      "cell_type": "markdown",
      "metadata": {
        "id": "Ll6RnCcyWUJ1"
      },
      "source": [
        "## [Problem 5] Judge the input whose calculation is not defined"
      ]
    },
    {
      "cell_type": "code",
      "metadata": {
        "colab": {
          "base_uri": "https://localhost:8080/"
        },
        "id": "YD8EFUmuWUJ2",
        "outputId": "92038fec-24cf-4d42-b776-25c9cf0d3f16"
      },
      "source": [
        "d_ndarray = np.array([[-1, 2, 3],[4, -5, 6]])\n",
        "e_ndarray = np.array([[-9, 8, 7],[6, -5, 4]])\n",
        "if(d_ndarray.shape[0]==e_ndarray.shape[1]):\n",
        "    print(product_of_matrix(d_ndarray, e_ndarray))\n",
        "else:\n",
        "        print(\"There is a problem with the size of the matrix, which may result in incorrect calculations.\")"
      ],
      "execution_count": 6,
      "outputs": [
        {
          "output_type": "stream",
          "text": [
            "There is a problem with the size of the matrix, which may result in incorrect calculations.\n"
          ],
          "name": "stdout"
        }
      ]
    },
    {
      "cell_type": "markdown",
      "metadata": {
        "id": "MLhBIRxXWUJ3"
      },
      "source": [
        "## [Problem 6] Transposition"
      ]
    },
    {
      "cell_type": "code",
      "metadata": {
        "colab": {
          "base_uri": "https://localhost:8080/"
        },
        "id": "aUf2rxU5WUJ4",
        "outputId": "77b37cea-03e0-4d2d-ef15-041683e14048"
      },
      "source": [
        "f = d_ndarray.T\n",
        "print(product_of_matrix(f, e_ndarray))"
      ],
      "execution_count": 7,
      "outputs": [
        {
          "output_type": "stream",
          "text": [
            "[[ 33. -28.   9.]\n",
            " [-48.  41.  -6.]\n",
            " [  9.  -6.  45.]]\n"
          ],
          "name": "stdout"
        }
      ]
    },
    {
      "cell_type": "code",
      "metadata": {
        "id": "Ut9-TQtvddTB"
      },
      "source": [
        ""
      ],
      "execution_count": null,
      "outputs": []
    }
  ]
}