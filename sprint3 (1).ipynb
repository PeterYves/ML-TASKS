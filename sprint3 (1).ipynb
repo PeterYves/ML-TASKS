{
 "cells": [
  {
   "cell_type": "markdown",
   "metadata": {},
   "source": [
    "# Basics of linear regression\n",
    "\n",
    "### [Problem 1-5] Implement ScratchLinearRegression"
   ]
  },
  {
   "cell_type": "code",
   "execution_count": 1,
   "metadata": {},
   "outputs": [],
   "source": [
    "import numpy as np\n",
    "import pandas as pd"
   ]
  },
  {
   "cell_type": "code",
   "execution_count": 2,
   "metadata": {},
   "outputs": [],
   "source": [
    "class ScratchLinearRegression():\n",
    "    \"\"\"\n",
    "    Scratch implementation of linear regression\n",
    "    \n",
    "    Parameters\n",
    "    ----------\n",
    "    num_iter : int\n",
    "      Number of iterations\n",
    "    lr : float\n",
    "      Learning rate\n",
    "    no_bias : bool\n",
    "      True if no bias term is included\n",
    "    verbose : bool\n",
    "      True to output the learning process\n",
    "    \n",
    "    Attributes\n",
    "    ----------\n",
    "    self.coef_ : ndarray, shape (n_features,)\n",
    "      Parameters\n",
    "    self.loss : ndarray, shape (self.iter,)\n",
    "      Record losses on training data\n",
    "    self.val_loss : ndarray, shape (self.iter,)\n",
    "      Record loss on validation data\n",
    "    \"\"\"\n",
    "    \n",
    "    def __init__(self, num_iter=1000, lr=0.01, no_bias=False, verbose=False):\n",
    "        # Record hyperparameters as attributes\n",
    "        self.iter = num_iter\n",
    "        self.lr = lr\n",
    "        self.no_bias = no_bias\n",
    "        self.verbose = verbose\n",
    "        # Prepare an array to record the loss\n",
    "        self.loss = np.zeros(self.iter)\n",
    "        self.val_loss = np.zeros(self.iter)\n",
    "        \n",
    "    def fit(self, X, y, X_val=None, y_val=None):\n",
    "        \"\"\"\n",
    "        Learn linear regression. If validation data is entered, \n",
    "        the loss and accuracy for it are also calculated for each iteration.\n",
    "        Parameters\n",
    "        ----------\n",
    "        X : ndarray, shape (n_samples, n_features)\n",
    "            Features of training data\n",
    "        y : ndarray, shape (n_samples,)\n",
    "            Correct answer value of training data\n",
    "        X_val : ndarray, shape (n_samples, n_features)\n",
    "            Features of verification data\n",
    "        y_val : ndarray, shape (n_samples,)\n",
    "            Correct value of verification data\n",
    "        \"\"\"\n",
    "        n_samples = X.shape[0]\n",
    "        n_features = X.shape[1]\n",
    "        \n",
    "        if not self.no_bias:\n",
    "            # Append bias column to X\n",
    "            X = np.hstack([np.ones([n_samples, 1]), X])\n",
    "        \n",
    "        # Prepare theta for hypotheis function\n",
    "        self.theta = np.random.rand(n_features + (1 - self.no_bias))\n",
    "        \n",
    "        for i in range(self.iter):\n",
    "            y_hyp = self._linear_hypothesis(X)\n",
    "            self.theta = self._gradient_descent(X, y, y_hyp)\n",
    "            self.loss[i] = self._loss_function(y_hyp, y)\n",
    "            \n",
    "            if X_val is not None and y_val is not None:\n",
    "                y_predict = self.predict(X_val)\n",
    "                self.val_loss[i] = self._loss_function(y_predict, y_val)\n",
    "                \n",
    "        if self.verbose:\n",
    "            #Output learning process when verbose is set to True\n",
    "            print(\"Loss: {}\".format(self.loss))\n",
    "            print(\"Val_loss: {}\".format(self.val_loss))\n",
    "        pass\n",
    "        \n",
    "    def predict(self, X):\n",
    "        \"\"\"\n",
    "        Estimate using linear regression.\n",
    "        Parameters\n",
    "        ----------\n",
    "        X : The following forms of ndarray, shape (n_samples, n_features)\n",
    "            sample\n",
    "        Returns\n",
    "        -------\n",
    "            ndarray, shape (n_samples, 1)\n",
    "            Estimated result by linear regression\n",
    "        \"\"\"\n",
    "        if not self.no_bias:\n",
    "            n_samples = X.shape[0]\n",
    "            X = np.hstack([np.ones([n_samples, 1]), X])\n",
    "        return np.dot(X, self.theta.T)\n",
    "    \n",
    "    def _linear_hypothesis(self, X):\n",
    "        \"\"\"\n",
    "        Compute a linear hypothetical function\n",
    "        Parameters\n",
    "        ----------\n",
    "        X : The following forms of ndarray, shape (n_samples, n_features)\n",
    "          Training data\n",
    "        Returns\n",
    "        -------\n",
    "          ndarray, shape (n_samples, 1)\n",
    "          Estimated result by linear hypothetical function\n",
    "        \"\"\"\n",
    "        y_hyp = np.dot(X, self.theta.T)\n",
    "        return y_hyp\n",
    "    \n",
    "    def _gradient_descent(self, X, y, y_hyp):\n",
    "        \"\"\"\n",
    "        Update new theta j in the steepest decent method\n",
    "        Parameters\n",
    "        ----------\n",
    "        X: ndarray, shape (n_samples, n_features)\n",
    "            Training data\n",
    "        y: ndarray, shape (n_samples,)\n",
    "            Correct answer value of training data\n",
    "        y_hyp: ndarray, shape (n_samples, 1)\n",
    "        Returns\n",
    "        -------\n",
    "        update_theta: ndarray, shape (n_features, 1)\n",
    "          New theta value\n",
    "        \"\"\"\n",
    "        n_samples = X.shape[0]\n",
    "        update_theta = self.theta - (self.lr * np.dot((y_hyp - y), X) / n_samples)\n",
    "        return update_theta\n",
    "    \n",
    "    def _loss_function(self, y_pred, y):\n",
    "        \"\"\"\n",
    "        Calculation of objective function.\n",
    "        Parameters\n",
    "        ----------\n",
    "        y_pred : The following forms of ndarray, shape (n_samples,)\n",
    "          Estimated value\n",
    "        y : The following forms of ndarray, shape (n_samples,)\n",
    "          Correct answer value\n",
    "        Returns\n",
    "        ----------\n",
    "        loss: numpy.float\n",
    "          Result of the loss function\n",
    "        \"\"\"\n",
    "        loss = np.mean((y_pred - y) ** 2)\n",
    "        return loss\n",
    "        \n",
    "\n",
    "def MSE(y_pred, y):\n",
    "    \"\"\"\n",
    "    Calculation of mean square error\n",
    "    Parameters\n",
    "    ----------\n",
    "    y_pred : The following forms of ndarray, shape (n_samples,)\n",
    "      Estimated value\n",
    "    y : The following forms of ndarray, shape (n_samples,)\n",
    "      Correct answer value\n",
    "    Returns\n",
    "    ----------\n",
    "    mse : numpy.float\n",
    "      Mean squared error\n",
    "    \"\"\"\n",
    "    n_samples = y.shape[0]\n",
    "    mse = np.mean((y_pred - y)[1:] ** 2)\n",
    "    return mse"
   ]
  },
  {
   "cell_type": "markdown",
   "metadata": {},
   "source": [
    "#### [Problem 1] Hypothetical function\n",
    "Implemented in `def _linear_hypothesis(self, X)`\n",
    "\n",
    "#### [Problem 2] Steepest descent\n",
    "Implemented in `def _gradient_descent(self, X, y, y_hyp)`\n",
    "\n",
    "#### [Problem 3] Estimated\n",
    "Implemented in `def fit(self, X, y, X_val=None, y_val=None)`, `def predict(self, X)`\n",
    "\n",
    "#### [Problem 4] Mean squared error\n",
    "Implemented in `def MSE(y_pred, y)` (outside the class)\n",
    "\n",
    "#### [Problem 5] Objective function\n",
    "Implemented in `def _loss_function(self, y_pred, y)`\n",
    "\n",
    "Now we will test our Scratch Linear Regression which has just been constructed."
   ]
  },
  {
   "cell_type": "code",
   "execution_count": 3,
   "metadata": {},
   "outputs": [
    {
     "data": {
      "text/plain": [
       "(5, 2)"
      ]
     },
     "execution_count": 3,
     "metadata": {},
     "output_type": "execute_result"
    }
   ],
   "source": [
    "X = np.array([\n",
    "    [1, 2],\n",
    "    [3, 4],\n",
    "    [5, 6],\n",
    "    [7, 8],\n",
    "    [9, 10]\n",
    "])\n",
    "X.shape"
   ]
  },
  {
   "cell_type": "code",
   "execution_count": 4,
   "metadata": {},
   "outputs": [
    {
     "data": {
      "text/plain": [
       "(5,)"
      ]
     },
     "execution_count": 4,
     "metadata": {},
     "output_type": "execute_result"
    }
   ],
   "source": [
    "# Let y = 2x1 + 1x2\n",
    "y = np.array([4, 10, 16, 22, 28])\n",
    "y.shape"
   ]
  },
  {
   "cell_type": "code",
   "execution_count": 5,
   "metadata": {},
   "outputs": [],
   "source": [
    "slr = ScratchLinearRegression(100, 0.01, False, True)"
   ]
  },
  {
   "cell_type": "code",
   "execution_count": 6,
   "metadata": {},
   "outputs": [
    {
     "name": "stdout",
     "output_type": "stream",
     "text": [
      "Loss: [1.17890244e+02 6.03050565e+00 4.62376719e-01 1.84256921e-01\n",
      " 1.69420556e-01 1.67693621e-01 1.66625224e-01 1.65595662e-01\n",
      " 1.64574056e-01 1.63558832e-01 1.62549874e-01 1.61547141e-01\n",
      " 1.60550594e-01 1.59560194e-01 1.58575903e-01 1.57597685e-01\n",
      " 1.56625500e-01 1.55659313e-01 1.54699086e-01 1.53744783e-01\n",
      " 1.52796367e-01 1.51853801e-01 1.50917049e-01 1.49986076e-01\n",
      " 1.49060846e-01 1.48141324e-01 1.47227474e-01 1.46319261e-01\n",
      " 1.45416651e-01 1.44519609e-01 1.43628100e-01 1.42742091e-01\n",
      " 1.41861548e-01 1.40986436e-01 1.40116723e-01 1.39252375e-01\n",
      " 1.38393358e-01 1.37539641e-01 1.36691191e-01 1.35847974e-01\n",
      " 1.35009959e-01 1.34177113e-01 1.33349405e-01 1.32526803e-01\n",
      " 1.31709275e-01 1.30896791e-01 1.30089318e-01 1.29286827e-01\n",
      " 1.28489286e-01 1.27696665e-01 1.26908933e-01 1.26126061e-01\n",
      " 1.25348018e-01 1.24574774e-01 1.23806301e-01 1.23042568e-01\n",
      " 1.22283547e-01 1.21529207e-01 1.20779521e-01 1.20034460e-01\n",
      " 1.19293995e-01 1.18558097e-01 1.17826739e-01 1.17099893e-01\n",
      " 1.16377530e-01 1.15659624e-01 1.14946146e-01 1.14237069e-01\n",
      " 1.13532367e-01 1.12832012e-01 1.12135977e-01 1.11444235e-01\n",
      " 1.10756761e-01 1.10073528e-01 1.09394509e-01 1.08719680e-01\n",
      " 1.08049013e-01 1.07382483e-01 1.06720065e-01 1.06061733e-01\n",
      " 1.05407462e-01 1.04757228e-01 1.04111004e-01 1.03468767e-01\n",
      " 1.02830492e-01 1.02196154e-01 1.01565729e-01 1.00939193e-01\n",
      " 1.00316523e-01 9.96976928e-02 9.90826805e-02 9.84714620e-02\n",
      " 9.78640139e-02 9.72603131e-02 9.66603364e-02 9.60640608e-02\n",
      " 9.54714635e-02 9.48825218e-02 9.42972131e-02 9.37155151e-02]\n",
      "Val_loss: [0. 0. 0. 0. 0. 0. 0. 0. 0. 0. 0. 0. 0. 0. 0. 0. 0. 0. 0. 0. 0. 0. 0. 0.\n",
      " 0. 0. 0. 0. 0. 0. 0. 0. 0. 0. 0. 0. 0. 0. 0. 0. 0. 0. 0. 0. 0. 0. 0. 0.\n",
      " 0. 0. 0. 0. 0. 0. 0. 0. 0. 0. 0. 0. 0. 0. 0. 0. 0. 0. 0. 0. 0. 0. 0. 0.\n",
      " 0. 0. 0. 0. 0. 0. 0. 0. 0. 0. 0. 0. 0. 0. 0. 0. 0. 0. 0. 0. 0. 0. 0. 0.\n",
      " 0. 0. 0. 0.]\n"
     ]
    }
   ],
   "source": [
    "theta = slr.fit(X, y)"
   ]
  },
  {
   "cell_type": "code",
   "execution_count": 7,
   "metadata": {},
   "outputs": [
    {
     "data": {
      "text/plain": [
       "array([ 4.5227868 , 10.33010627, 16.13742574, 21.94474522, 27.75206469])"
      ]
     },
     "execution_count": 7,
     "metadata": {},
     "output_type": "execute_result"
    }
   ],
   "source": [
    "slr_predict = slr.predict(X)\n",
    "slr_predict"
   ]
  },
  {
   "cell_type": "code",
   "execution_count": 8,
   "metadata": {},
   "outputs": [
    {
     "data": {
      "text/plain": [
       "0.048095248195664755"
      ]
     },
     "execution_count": 8,
     "metadata": {},
     "output_type": "execute_result"
    }
   ],
   "source": [
    "MSE(y, slr_predict)"
   ]
  },
  {
   "cell_type": "markdown",
   "metadata": {},
   "source": [
    "### [Problem 6] Learning and estimation"
   ]
  },
  {
   "cell_type": "code",
   "execution_count": 5,
   "metadata": {},
   "outputs": [
    {
     "data": {
      "text/html": [
       "<div>\n",
       "<style scoped>\n",
       "    .dataframe tbody tr th:only-of-type {\n",
       "        vertical-align: middle;\n",
       "    }\n",
       "\n",
       "    .dataframe tbody tr th {\n",
       "        vertical-align: top;\n",
       "    }\n",
       "\n",
       "    .dataframe thead th {\n",
       "        text-align: right;\n",
       "    }\n",
       "</style>\n",
       "<table border=\"1\" class=\"dataframe\">\n",
       "  <thead>\n",
       "    <tr style=\"text-align: right;\">\n",
       "      <th></th>\n",
       "      <th>Id</th>\n",
       "      <th>MSSubClass</th>\n",
       "      <th>MSZoning</th>\n",
       "      <th>LotFrontage</th>\n",
       "      <th>LotArea</th>\n",
       "      <th>Street</th>\n",
       "      <th>Alley</th>\n",
       "      <th>LotShape</th>\n",
       "      <th>LandContour</th>\n",
       "      <th>Utilities</th>\n",
       "      <th>...</th>\n",
       "      <th>PoolArea</th>\n",
       "      <th>PoolQC</th>\n",
       "      <th>Fence</th>\n",
       "      <th>MiscFeature</th>\n",
       "      <th>MiscVal</th>\n",
       "      <th>MoSold</th>\n",
       "      <th>YrSold</th>\n",
       "      <th>SaleType</th>\n",
       "      <th>SaleCondition</th>\n",
       "      <th>SalePrice</th>\n",
       "    </tr>\n",
       "  </thead>\n",
       "  <tbody>\n",
       "    <tr>\n",
       "      <th>0</th>\n",
       "      <td>1</td>\n",
       "      <td>60</td>\n",
       "      <td>RL</td>\n",
       "      <td>65.0</td>\n",
       "      <td>8450</td>\n",
       "      <td>Pave</td>\n",
       "      <td>NaN</td>\n",
       "      <td>Reg</td>\n",
       "      <td>Lvl</td>\n",
       "      <td>AllPub</td>\n",
       "      <td>...</td>\n",
       "      <td>0</td>\n",
       "      <td>NaN</td>\n",
       "      <td>NaN</td>\n",
       "      <td>NaN</td>\n",
       "      <td>0</td>\n",
       "      <td>2</td>\n",
       "      <td>2008</td>\n",
       "      <td>WD</td>\n",
       "      <td>Normal</td>\n",
       "      <td>208500</td>\n",
       "    </tr>\n",
       "    <tr>\n",
       "      <th>1</th>\n",
       "      <td>2</td>\n",
       "      <td>20</td>\n",
       "      <td>RL</td>\n",
       "      <td>80.0</td>\n",
       "      <td>9600</td>\n",
       "      <td>Pave</td>\n",
       "      <td>NaN</td>\n",
       "      <td>Reg</td>\n",
       "      <td>Lvl</td>\n",
       "      <td>AllPub</td>\n",
       "      <td>...</td>\n",
       "      <td>0</td>\n",
       "      <td>NaN</td>\n",
       "      <td>NaN</td>\n",
       "      <td>NaN</td>\n",
       "      <td>0</td>\n",
       "      <td>5</td>\n",
       "      <td>2007</td>\n",
       "      <td>WD</td>\n",
       "      <td>Normal</td>\n",
       "      <td>181500</td>\n",
       "    </tr>\n",
       "    <tr>\n",
       "      <th>2</th>\n",
       "      <td>3</td>\n",
       "      <td>60</td>\n",
       "      <td>RL</td>\n",
       "      <td>68.0</td>\n",
       "      <td>11250</td>\n",
       "      <td>Pave</td>\n",
       "      <td>NaN</td>\n",
       "      <td>IR1</td>\n",
       "      <td>Lvl</td>\n",
       "      <td>AllPub</td>\n",
       "      <td>...</td>\n",
       "      <td>0</td>\n",
       "      <td>NaN</td>\n",
       "      <td>NaN</td>\n",
       "      <td>NaN</td>\n",
       "      <td>0</td>\n",
       "      <td>9</td>\n",
       "      <td>2008</td>\n",
       "      <td>WD</td>\n",
       "      <td>Normal</td>\n",
       "      <td>223500</td>\n",
       "    </tr>\n",
       "    <tr>\n",
       "      <th>3</th>\n",
       "      <td>4</td>\n",
       "      <td>70</td>\n",
       "      <td>RL</td>\n",
       "      <td>60.0</td>\n",
       "      <td>9550</td>\n",
       "      <td>Pave</td>\n",
       "      <td>NaN</td>\n",
       "      <td>IR1</td>\n",
       "      <td>Lvl</td>\n",
       "      <td>AllPub</td>\n",
       "      <td>...</td>\n",
       "      <td>0</td>\n",
       "      <td>NaN</td>\n",
       "      <td>NaN</td>\n",
       "      <td>NaN</td>\n",
       "      <td>0</td>\n",
       "      <td>2</td>\n",
       "      <td>2006</td>\n",
       "      <td>WD</td>\n",
       "      <td>Abnorml</td>\n",
       "      <td>140000</td>\n",
       "    </tr>\n",
       "    <tr>\n",
       "      <th>4</th>\n",
       "      <td>5</td>\n",
       "      <td>60</td>\n",
       "      <td>RL</td>\n",
       "      <td>84.0</td>\n",
       "      <td>14260</td>\n",
       "      <td>Pave</td>\n",
       "      <td>NaN</td>\n",
       "      <td>IR1</td>\n",
       "      <td>Lvl</td>\n",
       "      <td>AllPub</td>\n",
       "      <td>...</td>\n",
       "      <td>0</td>\n",
       "      <td>NaN</td>\n",
       "      <td>NaN</td>\n",
       "      <td>NaN</td>\n",
       "      <td>0</td>\n",
       "      <td>12</td>\n",
       "      <td>2008</td>\n",
       "      <td>WD</td>\n",
       "      <td>Normal</td>\n",
       "      <td>250000</td>\n",
       "    </tr>\n",
       "  </tbody>\n",
       "</table>\n",
       "<p>5 rows × 81 columns</p>\n",
       "</div>"
      ],
      "text/plain": [
       "   Id  MSSubClass MSZoning  LotFrontage  LotArea Street Alley LotShape  \\\n",
       "0   1          60       RL         65.0     8450   Pave   NaN      Reg   \n",
       "1   2          20       RL         80.0     9600   Pave   NaN      Reg   \n",
       "2   3          60       RL         68.0    11250   Pave   NaN      IR1   \n",
       "3   4          70       RL         60.0     9550   Pave   NaN      IR1   \n",
       "4   5          60       RL         84.0    14260   Pave   NaN      IR1   \n",
       "\n",
       "  LandContour Utilities  ... PoolArea PoolQC Fence MiscFeature MiscVal MoSold  \\\n",
       "0         Lvl    AllPub  ...        0    NaN   NaN         NaN       0      2   \n",
       "1         Lvl    AllPub  ...        0    NaN   NaN         NaN       0      5   \n",
       "2         Lvl    AllPub  ...        0    NaN   NaN         NaN       0      9   \n",
       "3         Lvl    AllPub  ...        0    NaN   NaN         NaN       0      2   \n",
       "4         Lvl    AllPub  ...        0    NaN   NaN         NaN       0     12   \n",
       "\n",
       "  YrSold  SaleType  SaleCondition  SalePrice  \n",
       "0   2008        WD         Normal     208500  \n",
       "1   2007        WD         Normal     181500  \n",
       "2   2008        WD         Normal     223500  \n",
       "3   2006        WD        Abnorml     140000  \n",
       "4   2008        WD         Normal     250000  \n",
       "\n",
       "[5 rows x 81 columns]"
      ]
     },
     "execution_count": 5,
     "metadata": {},
     "output_type": "execute_result"
    }
   ],
   "source": [
    "df = pd.read_csv('train.csv')\n",
    "df.head()"
   ]
  },
  {
   "cell_type": "code",
   "execution_count": 6,
   "metadata": {},
   "outputs": [],
   "source": [
    "X = df[['GrLivArea']].values\n",
    "y = df['SalePrice'].values"
   ]
  },
  {
   "cell_type": "code",
   "execution_count": 7,
   "metadata": {},
   "outputs": [
    {
     "name": "stdout",
     "output_type": "stream",
     "text": [
      "(1095, 1) (365, 1) (1095,) (365,)\n"
     ]
    }
   ],
   "source": [
    "from sklearn.model_selection import train_test_split\n",
    "X_train, X_test, y_train, y_test = train_test_split(X, y)\n",
    "print(X_train.shape, X_test.shape, y_train.shape, y_test.shape)"
   ]
  },
  {
   "cell_type": "code",
   "execution_count": 8,
   "metadata": {},
   "outputs": [
    {
     "data": {
      "text/plain": [
       "array([[1710],\n",
       "       [1262],\n",
       "       [1786],\n",
       "       [1717],\n",
       "       [2198]], dtype=int64)"
      ]
     },
     "execution_count": 8,
     "metadata": {},
     "output_type": "execute_result"
    }
   ],
   "source": [
    "X[:5]"
   ]
  },
  {
   "cell_type": "code",
   "execution_count": 9,
   "metadata": {},
   "outputs": [
    {
     "data": {
      "text/plain": [
       "array([208500, 181500, 223500, 140000, 250000], dtype=int64)"
      ]
     },
     "execution_count": 9,
     "metadata": {},
     "output_type": "execute_result"
    }
   ],
   "source": [
    "y[:5]"
   ]
  },
  {
   "cell_type": "code",
   "execution_count": 10,
   "metadata": {},
   "outputs": [],
   "source": [
    "from sklearn.preprocessing import StandardScaler\n",
    "\n",
    "scaler = StandardScaler()\n",
    "scaler.fit(X_train)\n",
    "\n",
    "X_train_scaled = scaler.transform(X_train)\n",
    "X_test_scaled = scaler.transform(X_test)"
   ]
  },
  {
   "cell_type": "code",
   "execution_count": 11,
   "metadata": {},
   "outputs": [
    {
     "data": {
      "text/html": [
       "<div>\n",
       "<style scoped>\n",
       "    .dataframe tbody tr th:only-of-type {\n",
       "        vertical-align: middle;\n",
       "    }\n",
       "\n",
       "    .dataframe tbody tr th {\n",
       "        vertical-align: top;\n",
       "    }\n",
       "\n",
       "    .dataframe thead th {\n",
       "        text-align: right;\n",
       "    }\n",
       "</style>\n",
       "<table border=\"1\" class=\"dataframe\">\n",
       "  <thead>\n",
       "    <tr style=\"text-align: right;\">\n",
       "      <th></th>\n",
       "      <th>0</th>\n",
       "      <th>1</th>\n",
       "      <th>2</th>\n",
       "      <th>3</th>\n",
       "      <th>4</th>\n",
       "      <th>5</th>\n",
       "      <th>6</th>\n",
       "      <th>7</th>\n",
       "      <th>8</th>\n",
       "      <th>9</th>\n",
       "      <th>...</th>\n",
       "      <th>355</th>\n",
       "      <th>356</th>\n",
       "      <th>357</th>\n",
       "      <th>358</th>\n",
       "      <th>359</th>\n",
       "      <th>360</th>\n",
       "      <th>361</th>\n",
       "      <th>362</th>\n",
       "      <th>363</th>\n",
       "      <th>364</th>\n",
       "    </tr>\n",
       "  </thead>\n",
       "  <tbody>\n",
       "    <tr>\n",
       "      <th>0</th>\n",
       "      <td>238723.067131</td>\n",
       "      <td>127019.726626</td>\n",
       "      <td>135454.468665</td>\n",
       "      <td>250919.248186</td>\n",
       "      <td>109466.344547</td>\n",
       "      <td>213304.858016</td>\n",
       "      <td>249209.503178</td>\n",
       "      <td>210911.215005</td>\n",
       "      <td>106958.718536</td>\n",
       "      <td>110378.208551</td>\n",
       "      <td>...</td>\n",
       "      <td>154945.561753</td>\n",
       "      <td>156427.340759</td>\n",
       "      <td>110378.208551</td>\n",
       "      <td>136822.264671</td>\n",
       "      <td>163266.32079</td>\n",
       "      <td>88037.54045</td>\n",
       "      <td>199398.931953</td>\n",
       "      <td>174436.654841</td>\n",
       "      <td>144345.142705</td>\n",
       "      <td>147878.615721</td>\n",
       "    </tr>\n",
       "    <tr>\n",
       "      <th>1</th>\n",
       "      <td>144000.000000</td>\n",
       "      <td>92900.000000</td>\n",
       "      <td>155000.000000</td>\n",
       "      <td>238000.000000</td>\n",
       "      <td>91300.000000</td>\n",
       "      <td>213500.000000</td>\n",
       "      <td>206900.000000</td>\n",
       "      <td>192500.000000</td>\n",
       "      <td>136500.000000</td>\n",
       "      <td>110000.000000</td>\n",
       "      <td>...</td>\n",
       "      <td>127000.000000</td>\n",
       "      <td>180000.000000</td>\n",
       "      <td>149900.000000</td>\n",
       "      <td>175000.000000</td>\n",
       "      <td>224000.00000</td>\n",
       "      <td>118000.00000</td>\n",
       "      <td>181000.000000</td>\n",
       "      <td>155835.000000</td>\n",
       "      <td>135000.000000</td>\n",
       "      <td>147400.000000</td>\n",
       "    </tr>\n",
       "  </tbody>\n",
       "</table>\n",
       "<p>2 rows × 365 columns</p>\n",
       "</div>"
      ],
      "text/plain": [
       "             0              1              2              3              4    \\\n",
       "0  238723.067131  127019.726626  135454.468665  250919.248186  109466.344547   \n",
       "1  144000.000000   92900.000000  155000.000000  238000.000000   91300.000000   \n",
       "\n",
       "             5              6              7              8              9    \\\n",
       "0  213304.858016  249209.503178  210911.215005  106958.718536  110378.208551   \n",
       "1  213500.000000  206900.000000  192500.000000  136500.000000  110000.000000   \n",
       "\n",
       "   ...            355            356            357            358  \\\n",
       "0  ...  154945.561753  156427.340759  110378.208551  136822.264671   \n",
       "1  ...  127000.000000  180000.000000  149900.000000  175000.000000   \n",
       "\n",
       "            359           360            361            362            363  \\\n",
       "0  163266.32079   88037.54045  199398.931953  174436.654841  144345.142705   \n",
       "1  224000.00000  118000.00000  181000.000000  155835.000000  135000.000000   \n",
       "\n",
       "             364  \n",
       "0  147878.615721  \n",
       "1  147400.000000  \n",
       "\n",
       "[2 rows x 365 columns]"
      ]
     },
     "execution_count": 11,
     "metadata": {},
     "output_type": "execute_result"
    }
   ],
   "source": [
    "slr_house = ScratchLinearRegression()\n",
    "slr_house.fit(X_train_scaled, y_train, X_test_scaled, y_test)\n",
    "y_house_predict = slr_house.predict(X_test_scaled)\n",
    "\n",
    "pd.DataFrame([y_house_predict, y_test])"
   ]
  },
  {
   "cell_type": "code",
   "execution_count": 12,
   "metadata": {},
   "outputs": [
    {
     "data": {
      "text/plain": [
       "3380490884.101454"
      ]
     },
     "execution_count": 12,
     "metadata": {},
     "output_type": "execute_result"
    }
   ],
   "source": [
    "MSE(y_house_predict, y_test)"
   ]
  },
  {
   "cell_type": "code",
   "execution_count": 13,
   "metadata": {},
   "outputs": [
    {
     "data": {
      "image/png": "[encoded data removed]",
      "text/plain": [
       "<Figure size 432x288 with 1 Axes>"
      ]
     },
     "metadata": {
      "needs_background": "light"
     },
     "output_type": "display_data"
    }
   ],
   "source": [
    "import matplotlib.pyplot as plt\n",
    "%matplotlib inline\n",
    "\n",
    "plt.title('Predict with ScartchLinearRegression')\n",
    "plt.xlabel('GrLivArea')\n",
    "plt.ylabel('SalePrice')\n",
    "plt.scatter(X_test, y_test, label='Truth value')\n",
    "plt.scatter(X_test, y_house_predict, label='Predicted value')\n",
    "plt.legend()\n",
    "plt.show()"
   ]
  },
  {
   "cell_type": "code",
   "execution_count": 14,
   "metadata": {},
   "outputs": [
    {
     "data": {
      "text/html": [
       "<div>\n",
       "<style scoped>\n",
       "    .dataframe tbody tr th:only-of-type {\n",
       "        vertical-align: middle;\n",
       "    }\n",
       "\n",
       "    .dataframe tbody tr th {\n",
       "        vertical-align: top;\n",
       "    }\n",
       "\n",
       "    .dataframe thead th {\n",
       "        text-align: right;\n",
       "    }\n",
       "</style>\n",
       "<table border=\"1\" class=\"dataframe\">\n",
       "  <thead>\n",
       "    <tr style=\"text-align: right;\">\n",
       "      <th></th>\n",
       "      <th>0</th>\n",
       "      <th>1</th>\n",
       "      <th>2</th>\n",
       "      <th>3</th>\n",
       "      <th>4</th>\n",
       "      <th>5</th>\n",
       "      <th>6</th>\n",
       "      <th>7</th>\n",
       "      <th>8</th>\n",
       "      <th>9</th>\n",
       "      <th>...</th>\n",
       "      <th>355</th>\n",
       "      <th>356</th>\n",
       "      <th>357</th>\n",
       "      <th>358</th>\n",
       "      <th>359</th>\n",
       "      <th>360</th>\n",
       "      <th>361</th>\n",
       "      <th>362</th>\n",
       "      <th>363</th>\n",
       "      <th>364</th>\n",
       "    </tr>\n",
       "  </thead>\n",
       "  <tbody>\n",
       "    <tr>\n",
       "      <th>Predict value</th>\n",
       "      <td>238733.373491</td>\n",
       "      <td>127025.210464</td>\n",
       "      <td>135460.316652</td>\n",
       "      <td>250930.081086</td>\n",
       "      <td>109471.07056</td>\n",
       "      <td>213314.067006</td>\n",
       "      <td>249220.262264</td>\n",
       "      <td>210920.320655</td>\n",
       "      <td>106963.336288</td>\n",
       "      <td>110382.973932</td>\n",
       "      <td>...</td>\n",
       "      <td>154952.251221</td>\n",
       "      <td>156434.0942</td>\n",
       "      <td>110382.973932</td>\n",
       "      <td>136828.171709</td>\n",
       "      <td>163273.369487</td>\n",
       "      <td>88041.341326</td>\n",
       "      <td>199407.540588</td>\n",
       "      <td>174444.18579</td>\n",
       "      <td>144351.374525</td>\n",
       "      <td>147885.000091</td>\n",
       "    </tr>\n",
       "    <tr>\n",
       "      <th>Truth value</th>\n",
       "      <td>144000.000000</td>\n",
       "      <td>92900.000000</td>\n",
       "      <td>155000.000000</td>\n",
       "      <td>238000.000000</td>\n",
       "      <td>91300.00000</td>\n",
       "      <td>213500.000000</td>\n",
       "      <td>206900.000000</td>\n",
       "      <td>192500.000000</td>\n",
       "      <td>136500.000000</td>\n",
       "      <td>110000.000000</td>\n",
       "      <td>...</td>\n",
       "      <td>127000.000000</td>\n",
       "      <td>180000.0000</td>\n",
       "      <td>149900.000000</td>\n",
       "      <td>175000.000000</td>\n",
       "      <td>224000.000000</td>\n",
       "      <td>118000.000000</td>\n",
       "      <td>181000.000000</td>\n",
       "      <td>155835.00000</td>\n",
       "      <td>135000.000000</td>\n",
       "      <td>147400.000000</td>\n",
       "    </tr>\n",
       "  </tbody>\n",
       "</table>\n",
       "<p>2 rows × 365 columns</p>\n",
       "</div>"
      ],
      "text/plain": [
       "                         0              1              2              3    \\\n",
       "Predict value  238733.373491  127025.210464  135460.316652  250930.081086   \n",
       "Truth value    144000.000000   92900.000000  155000.000000  238000.000000   \n",
       "\n",
       "                        4              5              6              7    \\\n",
       "Predict value  109471.07056  213314.067006  249220.262264  210920.320655   \n",
       "Truth value     91300.00000  213500.000000  206900.000000  192500.000000   \n",
       "\n",
       "                         8              9    ...            355          356  \\\n",
       "Predict value  106963.336288  110382.973932  ...  154952.251221  156434.0942   \n",
       "Truth value    136500.000000  110000.000000  ...  127000.000000  180000.0000   \n",
       "\n",
       "                         357            358            359            360  \\\n",
       "Predict value  110382.973932  136828.171709  163273.369487   88041.341326   \n",
       "Truth value    149900.000000  175000.000000  224000.000000  118000.000000   \n",
       "\n",
       "                         361           362            363            364  \n",
       "Predict value  199407.540588  174444.18579  144351.374525  147885.000091  \n",
       "Truth value    181000.000000  155835.00000  135000.000000  147400.000000  \n",
       "\n",
       "[2 rows x 365 columns]"
      ]
     },
     "execution_count": 14,
     "metadata": {},
     "output_type": "execute_result"
    }
   ],
   "source": [
    "from sklearn.linear_model import LinearRegression\n",
    "from sklearn.metrics import mean_squared_error\n",
    "\n",
    "lr = LinearRegression()\n",
    "lr.fit(X_train_scaled, y_train)\n",
    "lr_predict = lr.predict(X_test_scaled)\n",
    "\n",
    "pd.DataFrame([lr_predict, y_test], index=['Predict value', 'Truth value'])"
   ]
  },
  {
   "cell_type": "code",
   "execution_count": 15,
   "metadata": {},
   "outputs": [
    {
     "data": {
      "text/plain": [
       "3395904623.7403708"
      ]
     },
     "execution_count": 15,
     "metadata": {},
     "output_type": "execute_result"
    }
   ],
   "source": [
    "mean_squared_error(y_test, lr_predict)"
   ]
  },
  {
   "cell_type": "markdown",
   "metadata": {},
   "source": [
    "### [Problem 7] Learning curve plot"
   ]
  },
  {
   "cell_type": "code",
   "execution_count": 20,
   "metadata": {},
   "outputs": [
    {
     "data": {
      "image/png": "[encoded data removed]",
      "text/plain": [
       "<Figure size 432x288 with 1 Axes>"
      ]
     },
     "metadata": {
      "needs_background": "light"
     },
     "output_type": "display_data"
    }
   ],
   "source": [
    "plt.title('Learning Curve Plot')\n",
    "plt.xlabel('iter')\n",
    "plt.ylabel('loss')\n",
    "plt.scatter(range(slr_house.iter), slr_house.loss, label='train_loss')\n",
    "plt.scatter(range(slr_house.iter), slr_house.val_loss, label='val_loss')\n",
    "plt.legend()\n",
    "plt.show()"
   ]
  },
  {
   "cell_type": "markdown",
   "metadata": {},
   "source": [
    "### [Problem 8] (Advance task) Removal of bias term"
   ]
  },
  {
   "cell_type": "code",
   "execution_count": 21,
   "metadata": {},
   "outputs": [
    {
     "data": {
      "text/html": [
       "<div>\n",
       "<style scoped>\n",
       "    .dataframe tbody tr th:only-of-type {\n",
       "        vertical-align: middle;\n",
       "    }\n",
       "\n",
       "    .dataframe tbody tr th {\n",
       "        vertical-align: top;\n",
       "    }\n",
       "\n",
       "    .dataframe thead th {\n",
       "        text-align: right;\n",
       "    }\n",
       "</style>\n",
       "<table border=\"1\" class=\"dataframe\">\n",
       "  <thead>\n",
       "    <tr style=\"text-align: right;\">\n",
       "      <th></th>\n",
       "      <th>0</th>\n",
       "      <th>1</th>\n",
       "      <th>2</th>\n",
       "      <th>3</th>\n",
       "      <th>4</th>\n",
       "      <th>5</th>\n",
       "      <th>6</th>\n",
       "      <th>7</th>\n",
       "      <th>8</th>\n",
       "      <th>9</th>\n",
       "      <th>...</th>\n",
       "      <th>355</th>\n",
       "      <th>356</th>\n",
       "      <th>357</th>\n",
       "      <th>358</th>\n",
       "      <th>359</th>\n",
       "      <th>360</th>\n",
       "      <th>361</th>\n",
       "      <th>362</th>\n",
       "      <th>363</th>\n",
       "      <th>364</th>\n",
       "    </tr>\n",
       "  </thead>\n",
       "  <tbody>\n",
       "    <tr>\n",
       "      <th>Predict value</th>\n",
       "      <td>-4047.927314</td>\n",
       "      <td>-33202.728026</td>\n",
       "      <td>155035.876576</td>\n",
       "      <td>-39751.994853</td>\n",
       "      <td>18874.50658</td>\n",
       "      <td>-68272.99555</td>\n",
       "      <td>-1301.46058</td>\n",
       "      <td>-8907.060766</td>\n",
       "      <td>35458.940319</td>\n",
       "      <td>-2146.527267</td>\n",
       "      <td>...</td>\n",
       "      <td>128627.542597</td>\n",
       "      <td>-68272.99555</td>\n",
       "      <td>89543.208308</td>\n",
       "      <td>63134.874329</td>\n",
       "      <td>-3308.493962</td>\n",
       "      <td>-31512.594652</td>\n",
       "      <td>-878.927236</td>\n",
       "      <td>-17568.994311</td>\n",
       "      <td>17818.173221</td>\n",
       "      <td>80247.474747</td>\n",
       "    </tr>\n",
       "    <tr>\n",
       "      <th>Truth value</th>\n",
       "      <td>160000.000000</td>\n",
       "      <td>110000.000000</td>\n",
       "      <td>242000.000000</td>\n",
       "      <td>126000.000000</td>\n",
       "      <td>127500.00000</td>\n",
       "      <td>120500.00000</td>\n",
       "      <td>204900.00000</td>\n",
       "      <td>159500.000000</td>\n",
       "      <td>143000.000000</td>\n",
       "      <td>184000.000000</td>\n",
       "      <td>...</td>\n",
       "      <td>437154.000000</td>\n",
       "      <td>111250.00000</td>\n",
       "      <td>122000.000000</td>\n",
       "      <td>235000.000000</td>\n",
       "      <td>226000.000000</td>\n",
       "      <td>151000.000000</td>\n",
       "      <td>212000.000000</td>\n",
       "      <td>98000.000000</td>\n",
       "      <td>193500.000000</td>\n",
       "      <td>290000.000000</td>\n",
       "    </tr>\n",
       "  </tbody>\n",
       "</table>\n",
       "<p>2 rows × 365 columns</p>\n",
       "</div>"
      ],
      "text/plain": [
       "                         0              1              2              3    \\\n",
       "Predict value   -4047.927314  -33202.728026  155035.876576  -39751.994853   \n",
       "Truth value    160000.000000  110000.000000  242000.000000  126000.000000   \n",
       "\n",
       "                        4             5             6              7    \\\n",
       "Predict value   18874.50658  -68272.99555   -1301.46058   -8907.060766   \n",
       "Truth value    127500.00000  120500.00000  204900.00000  159500.000000   \n",
       "\n",
       "                         8              9    ...            355           356  \\\n",
       "Predict value   35458.940319   -2146.527267  ...  128627.542597  -68272.99555   \n",
       "Truth value    143000.000000  184000.000000  ...  437154.000000  111250.00000   \n",
       "\n",
       "                         357            358            359            360  \\\n",
       "Predict value   89543.208308   63134.874329   -3308.493962  -31512.594652   \n",
       "Truth value    122000.000000  235000.000000  226000.000000  151000.000000   \n",
       "\n",
       "                         361           362            363            364  \n",
       "Predict value    -878.927236 -17568.994311   17818.173221   80247.474747  \n",
       "Truth value    212000.000000  98000.000000  193500.000000  290000.000000  \n",
       "\n",
       "[2 rows x 365 columns]"
      ]
     },
     "execution_count": 21,
     "metadata": {},
     "output_type": "execute_result"
    }
   ],
   "source": [
    "slr_nobias = ScratchLinearRegression(no_bias=True)\n",
    "slr_nobias.fit(X_train_scaled, y_train)\n",
    "slr_nobias_predict = slr_nobias.predict(X_test_scaled)\n",
    "\n",
    "pd.DataFrame([slr_nobias_predict, y_test], index=['Predict value', 'Truth value'])"
   ]
  },
  {
   "cell_type": "code",
   "execution_count": 16,
   "metadata": {},
   "outputs": [
    {
     "ename": "NameError",
     "evalue": "name 'slr_nobias_predict' is not defined",
     "output_type": "error",
     "traceback": [
      "\u001b[1;31m---------------------------------------------------------------------------\u001b[0m",
      "\u001b[1;31mNameError\u001b[0m                                 Traceback (most recent call last)",
      "\u001b[1;32m<ipython-input-16-250a7672205d>\u001b[0m in \u001b[0;36m<module>\u001b[1;34m\u001b[0m\n\u001b[0;32m      3\u001b[0m \u001b[0mplt\u001b[0m\u001b[1;33m.\u001b[0m\u001b[0mylabel\u001b[0m\u001b[1;33m(\u001b[0m\u001b[1;34m'SalePrice'\u001b[0m\u001b[1;33m)\u001b[0m\u001b[1;33m\u001b[0m\u001b[1;33m\u001b[0m\u001b[0m\n\u001b[0;32m      4\u001b[0m \u001b[0mplt\u001b[0m\u001b[1;33m.\u001b[0m\u001b[0mscatter\u001b[0m\u001b[1;33m(\u001b[0m\u001b[0mX_test\u001b[0m\u001b[1;33m,\u001b[0m \u001b[0my_test\u001b[0m\u001b[1;33m,\u001b[0m \u001b[0mlabel\u001b[0m\u001b[1;33m=\u001b[0m\u001b[1;34m'Truth value'\u001b[0m\u001b[1;33m)\u001b[0m\u001b[1;33m\u001b[0m\u001b[1;33m\u001b[0m\u001b[0m\n\u001b[1;32m----> 5\u001b[1;33m \u001b[0mplt\u001b[0m\u001b[1;33m.\u001b[0m\u001b[0mscatter\u001b[0m\u001b[1;33m(\u001b[0m\u001b[0mX_test\u001b[0m\u001b[1;33m,\u001b[0m \u001b[0mslr_nobias_predict\u001b[0m\u001b[1;33m,\u001b[0m \u001b[0mlabel\u001b[0m\u001b[1;33m=\u001b[0m\u001b[1;34m'Predicted value'\u001b[0m\u001b[1;33m)\u001b[0m\u001b[1;33m\u001b[0m\u001b[1;33m\u001b[0m\u001b[0m\n\u001b[0m\u001b[0;32m      6\u001b[0m \u001b[0mplt\u001b[0m\u001b[1;33m.\u001b[0m\u001b[0mlegend\u001b[0m\u001b[1;33m(\u001b[0m\u001b[1;33m)\u001b[0m\u001b[1;33m\u001b[0m\u001b[1;33m\u001b[0m\u001b[0m\n\u001b[0;32m      7\u001b[0m \u001b[0mplt\u001b[0m\u001b[1;33m.\u001b[0m\u001b[0mshow\u001b[0m\u001b[1;33m(\u001b[0m\u001b[1;33m)\u001b[0m\u001b[1;33m\u001b[0m\u001b[1;33m\u001b[0m\u001b[0m\n",
      "\u001b[1;31mNameError\u001b[0m: name 'slr_nobias_predict' is not defined"
     ]
    },
    {
     "data": {
      "image/png": "[encoded data removed]",
      "text/plain": [
       "<Figure size 432x288 with 1 Axes>"
      ]
     },
     "metadata": {
      "needs_background": "light"
     },
     "output_type": "display_data"
    }
   ],
   "source": [
    "plt.title('Predict with ScartchLinearRegression (no bias)')\n",
    "plt.xlabel('GrLivArea')\n",
    "plt.ylabel('SalePrice')\n",
    "plt.scatter(X_test, y_test, label='Truth value')\n",
    "plt.scatter(X_test, slr_nobias_predict, label='Predicted value')\n",
    "plt.legend()\n",
    "plt.show()"
   ]
  },
  {
   "cell_type": "markdown",
   "metadata": {},
   "source": [
    "The bias term is used to allow models to represent patterns that do not pass through the origin. In this problem, when there is no bias term, the predicted sale price can be negative and most predicted values is smaller than expected values. The bias term now shifts the sale price up on y-axis.\n",
    "\n",
    "### [Problem 9] (Advance task) Multidimensional feature quantity"
   ]
  },
  {
   "cell_type": "code",
   "execution_count": null,
   "metadata": {},
   "outputs": [],
   "source": [
    "X = df[['GrLivArea', 'YearBuilt']].values\n",
    "y = df['SalePrice'].values"
   ]
  },
  {
   "cell_type": "code",
   "execution_count": null,
   "metadata": {},
   "outputs": [],
   "source": [
    "X_train, X_test, y_train, y_test = train_test_split(X, y)\n",
    "print(X_train.shape, X_test.shape, y_train.shape, y_test.shape)"
   ]
  },
  {
   "cell_type": "code",
   "execution_count": null,
   "metadata": {},
   "outputs": [],
   "source": [
    "scaler = StandardScaler()\n",
    "scaler.fit(X_train)\n",
    "\n",
    "X_train_scaled = scaler.transform(X_train)\n",
    "X_test_scaled = scaler.transform(X_test)"
   ]
  },
  {
   "cell_type": "code",
   "execution_count": null,
   "metadata": {},
   "outputs": [],
   "source": [
    "slr_house = ScratchLinearRegression()\n",
    "slr_house.fit(X_train_scaled, y_train, X_test_scaled, y_test)\n",
    "y_house_predict = slr_house.predict(X_test_scaled)\n",
    "\n",
    "pd.DataFrame([y_house_predict, y_test])"
   ]
  },
  {
   "cell_type": "code",
   "execution_count": 17,
   "metadata": {},
   "outputs": [
    {
     "data": {
      "text/plain": [
       "3380490884.101454"
      ]
     },
     "execution_count": 17,
     "metadata": {},
     "output_type": "execute_result"
    }
   ],
   "source": [
    "MSE(y_house_predict, y_test)"
   ]
  },
  {
   "cell_type": "code",
   "execution_count": 18,
   "metadata": {},
   "outputs": [
    {
     "data": {
      "image/png": "[encoded data removed]",
      "text/plain": [
       "<Figure size 432x288 with 1 Axes>"
      ]
     },
     "metadata": {
      "needs_background": "light"
     },
     "output_type": "display_data"
    }
   ],
   "source": [
    "plt.title('Predict with ScratchLinearRegression (GrLivArea / SalePrice)')\n",
    "plt.xlabel('GrLivArea')\n",
    "plt.ylabel('SalePrice')\n",
    "plt.scatter(X_test[:, 0], y_test, label='Truth value')\n",
    "plt.scatter(X_test[:, 0], y_house_predict, label='Predicted value')\n",
    "plt.legend()\n",
    "plt.show()"
   ]
  },
  {
   "cell_type": "code",
   "execution_count": 20,
   "metadata": {},
   "outputs": [
    {
     "ename": "IndexError",
     "evalue": "index 1 is out of bounds for axis 1 with size 1",
     "output_type": "error",
     "traceback": [
      "\u001b[1;31m---------------------------------------------------------------------------\u001b[0m",
      "\u001b[1;31mIndexError\u001b[0m                                Traceback (most recent call last)",
      "\u001b[1;32m<ipython-input-20-f06ecfef2e2f>\u001b[0m in \u001b[0;36m<module>\u001b[1;34m\u001b[0m\n\u001b[0;32m      2\u001b[0m \u001b[0mplt\u001b[0m\u001b[1;33m.\u001b[0m\u001b[0mxlabel\u001b[0m\u001b[1;33m(\u001b[0m\u001b[1;34m'YearBuilt'\u001b[0m\u001b[1;33m)\u001b[0m\u001b[1;33m\u001b[0m\u001b[1;33m\u001b[0m\u001b[0m\n\u001b[0;32m      3\u001b[0m \u001b[0mplt\u001b[0m\u001b[1;33m.\u001b[0m\u001b[0mylabel\u001b[0m\u001b[1;33m(\u001b[0m\u001b[1;34m'SalePrice'\u001b[0m\u001b[1;33m)\u001b[0m\u001b[1;33m\u001b[0m\u001b[1;33m\u001b[0m\u001b[0m\n\u001b[1;32m----> 4\u001b[1;33m \u001b[0mplt\u001b[0m\u001b[1;33m.\u001b[0m\u001b[0mscatter\u001b[0m\u001b[1;33m(\u001b[0m\u001b[0mX_test\u001b[0m\u001b[1;33m[\u001b[0m\u001b[1;33m:\u001b[0m\u001b[1;33m,\u001b[0m \u001b[1;36m1\u001b[0m\u001b[1;33m]\u001b[0m\u001b[1;33m,\u001b[0m \u001b[0my_test\u001b[0m\u001b[1;33m,\u001b[0m \u001b[0mlabel\u001b[0m\u001b[1;33m=\u001b[0m\u001b[1;34m'Truth value'\u001b[0m\u001b[1;33m)\u001b[0m\u001b[1;33m\u001b[0m\u001b[1;33m\u001b[0m\u001b[0m\n\u001b[0m\u001b[0;32m      5\u001b[0m \u001b[0mplt\u001b[0m\u001b[1;33m.\u001b[0m\u001b[0mscatter\u001b[0m\u001b[1;33m(\u001b[0m\u001b[0mX_test\u001b[0m\u001b[1;33m[\u001b[0m\u001b[1;33m:\u001b[0m\u001b[1;33m,\u001b[0m \u001b[1;36m1\u001b[0m\u001b[1;33m]\u001b[0m\u001b[1;33m,\u001b[0m \u001b[0my_house_predict\u001b[0m\u001b[1;33m,\u001b[0m \u001b[0mlabel\u001b[0m\u001b[1;33m=\u001b[0m\u001b[1;34m'Predicted value'\u001b[0m\u001b[1;33m)\u001b[0m\u001b[1;33m\u001b[0m\u001b[1;33m\u001b[0m\u001b[0m\n\u001b[0;32m      6\u001b[0m \u001b[0mplt\u001b[0m\u001b[1;33m.\u001b[0m\u001b[0mlegend\u001b[0m\u001b[1;33m(\u001b[0m\u001b[1;33m)\u001b[0m\u001b[1;33m\u001b[0m\u001b[1;33m\u001b[0m\u001b[0m\n",
      "\u001b[1;31mIndexError\u001b[0m: index 1 is out of bounds for axis 1 with size 1"
     ]
    },
    {
     "data": {
      "image/png": "[encoded data removed]",
      "text/plain": [
       "<Figure size 432x288 with 1 Axes>"
      ]
     },
     "metadata": {
      "needs_background": "light"
     },
     "output_type": "display_data"
    }
   ],
   "source": [
    "plt.title('Predict with ScratchLinearRegression (YearBuilt / SalePrice)')\n",
    "plt.xlabel('YearBuilt')\n",
    "plt.ylabel('SalePrice')\n",
    "plt.scatter(X_test[:, 1], y_test, label='Truth value')\n",
    "plt.scatter(X_test[:, 1], y_house_predict, label='Predicted value')\n",
    "plt.legend()\n",
    "plt.show()"
   ]
  },
  {
   "cell_type": "markdown",
   "metadata": {},
   "source": [
    "### [Problem 10] (Advance task) Derivation of update formula\n",
    "\n",
    "Prove that:\n",
    "\n",
    "$\\theta_j := \\theta_j - \\alpha \\frac{1}{m} \\sum_{i=1}^{m}[(h_\\theta(x^{(i)}) - y^{(i)} )x_{j}^{(i)}]$\n",
    "\n",
    "We have \n",
    "\n",
    "$\\theta_j := \\theta_j - \\alpha \\frac{\\partial}{\\partial \\theta_j}J(\\theta)$\n",
    "\n",
    "with \n",
    "\n",
    "$ J(\\theta)=  \\frac{1 }{ 2m}  \\sum_{i=1}^{m} (h_\\theta(x^{(i)})-y^{(i)})^2 $.\n",
    "\n",
    "Hence, \n",
    "\n",
    "$\\frac{\\partial J}{\\partial x} = \\frac{1}{2m} \\frac{\\partial  \\sum_{i=1}^{m} (h_\\theta(x^{(i)})-y^{(i)})^2}{\\partial x}$\n",
    "\n",
    "$\\frac{\\partial J}{\\partial x} = \\frac{1}{2m} \\sum_{i=1}^{m} 2(h_\\theta(x^{(i)}) - y^{(i)}) \\frac{\\partial (h_\\theta(x^{(i)}) - y^{(i)})}{\\partial \\theta_j}$\n",
    "\n",
    "$\\frac{\\partial J}{\\partial x} = \\frac{1}{m} \\sum_{i=1}^{m} (h_\\theta(x^{(i)}) - y^{(i)}) \\frac{\\partial (\\theta_j x_j^{(i)} - y^{(i)})}{\\partial \\theta_j}$\n",
    "\n",
    "$\\frac{\\partial J}{\\partial x} = \\frac{1}{m} \\sum_{i=1}^{m} (h_\\theta(x^{(i)}) - y^{(i)}) x_j^{(i)}$.\n",
    "\n",
    "Therefore, $\\theta_j = \\theta_j - \\alpha \\frac{\\partial}{\\partial \\theta_j}J(\\theta) = \\theta_j - \\alpha \\frac{1}{m} \\sum_{i=1}^{m}[(h_\\theta(x^{(i)}) - y^{(i)} )x_{j}^{(i)}]$."
   ]
  }
 ],
 "metadata": {
  "kernelspec": {
   "display_name": "Python 3",
   "language": "python",
   "name": "python3"
  },
  "language_info": {
   "codemirror_mode": {
    "name": "ipython",
    "version": 3
   },
   "file_extension": ".py",
   "mimetype": "text/x-python",
   "name": "python",
   "nbconvert_exporter": "python",
   "pygments_lexer": "ipython3",
   "version": "3.8.5"
  }
 },
 "nbformat": 4,
 "nbformat_minor": 4
}
